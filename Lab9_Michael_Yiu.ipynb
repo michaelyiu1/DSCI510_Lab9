{
 "cells": [
  {
   "cell_type": "markdown",
   "metadata": {},
   "source": [
    "# Lab 9\n",
    "### DSCI 510 / USC / Hermjakob section / Spring 2025\n",
    "---\n",
    "Hello and welcome to DSCI 510's lab 9.\n",
    "\n",
    "Guidelines for the Lab:\n",
    "\n",
    "- Please write and submit the two programs below by the deadline: Wednesday, April 9, at 11:00am Pacific time (extra time as HW3 is due on April 7)\n",
    "\n",
    "- You must complete the assignments individually. If you have trouble completing the assignment, please let the teaching assistant (TA) know, during the lab or his office hours. He will help and guide you, but he will not write code for you and no one else should :) !!!  \n",
    "\n",
    "- You have to fill in the code in this notebook and upload it back to Brightspace for submission. Please remember to rename your file as \"Lab9_[YOUR FIRSTNAME]_[YOUR LASTNAME].ipynb\" (e.g. Lab9_George_Washington.ipynb).\n",
    "\n",
    "- You may look up resources online like python docs and stackoverflow. You may look up topics, but not the questions themselves."
   ]
  },
  {
   "cell_type": "markdown",
   "metadata": {},
   "source": [
    "Today, we are going to write some queries in order to create and manipulate __database__ tables.  \n",
    "\n",
    "Info about sqlite python module: https://docs.python.org/3/library/sqlite3.html  "
   ]
  },
  {
   "cell_type": "markdown",
   "metadata": {},
   "source": [
    "For executing queries, this is the lifecycle that you'll follow:  \n",
    "1. Import the library `sqlite3`  \n",
    "2. Create a connection to the database using `sqlite3.connect()`  \n",
    "3. Create a cursor from the connection object we just created  \n",
    "4. Execute queries to the database using the cursor object and the execute function.  \n",
    "5. Lastly, make sure to commit and close the connection. (Likely to face problems if you forget this. In the worst case, try to restart the kernel.) "
   ]
  },
  {
   "cell_type": "markdown",
   "metadata": {
    "pycharm": {
     "name": "#%% md\n"
    }
   },
   "source": [
    "Q1: Simple SQL Table [10 points] \n",
    "---\n",
    "In this question, you have to create a database, create a table, insert two rows of data and fetch all rows and return that list data. Information on the same is as below:  \n",
    "database name : 'lab9.db'  \n",
    "table name : 'sample_table'  \n",
    "    - columns in the table : (name(text), age(integer), address(text))  \n",
    "\n",
    "first row data : ('Sherlock Holmes', 38, '221 B Baker Street')  \n",
    "second row data : ('Harry Potter', 17, 'Station 9 3/4, London') \n",
    "\n",
    "Note: You may want to drop the table before you create it."
   ]
  },
  {
   "cell_type": "code",
   "execution_count": 21,
   "metadata": {},
   "outputs": [
    {
     "name": "stdout",
     "output_type": "stream",
     "text": [
      "name: Sherlock Holmes, age: 38, address: 221 B Baker Street\n",
      "name: Harry Potter, age: 17, address: Station 9 3/4, London\n"
     ]
    }
   ],
   "source": [
    "import sqlite3\n",
    "\n",
    "def sample_data():\n",
    "    name = ['Sherlock Holmes', 'Harry Potter']\n",
    "    age = [38, 17]\n",
    "    address = ['221 B Baker Street', 'Station 9 3/4, London']\n",
    "    \n",
    "    with sqlite3.connect('lab9.db') as connection:\n",
    "        cursor = connection.cursor()\n",
    "        cursor.execute('DROP TABlE IF EXISTS sample_table')\n",
    "        cursor.execute(\"CREATE TABLE sample_table(name TEXT, age INT, address TEXT)\")\n",
    "        for i in range(len(name)):\n",
    "            cursor.execute(f\"INSERT INTO sample_table (name, age, address) VALUES ('{name[i]}','{age[i]}','{address[i]}')\")\n",
    "        for row in cursor.execute('SELECT name, age, address FROM sample_table'):\n",
    "            print(f'name: {row[0]}, age: {row[1]}, address: {row[2]}')\n",
    "        \n",
    "        connection.commit()     \n",
    "    \n",
    "\n",
    "sample_data()"
   ]
  },
  {
   "cell_type": "markdown",
   "metadata": {},
   "source": [
    "Q2: Build the Titanic [10 points] \n",
    "---\n",
    "Create a function which creates the SQL table of the __Titanic__ dataset.\n",
    "\n",
    "To read the data from `titanic_data.csv`, you may use the `cvs` library.\n",
    "\n",
    "Table name: Titanic  \n",
    "Column names should be the same as the first row of the dataset and the types should be from integer, real or text as required.  \n",
    "PassengerId should be the primary key of the table.\n",
    "\n",
    "Insert the whole dataset into an SQL table and run this query: `SELECT * FROM Titanic where PassengerId is 75`. Return output of query from the function."
   ]
  },
  {
   "cell_type": "code",
   "execution_count": null,
   "metadata": {},
   "outputs": [],
   "source": [
    "import sqlite3\n",
    "\n",
    "def build_titanic(filename: str, cur: sqlite3.Cursor) -> None:\n",
    "    pass\n",
    "\n",
    "def query_titanic_by_passenger_id(passenger_id: int, cur: sqlite3.Cursor) -> list:\n",
    "    pass"
   ]
  },
  {
   "cell_type": "code",
   "execution_count": null,
   "metadata": {
    "ExecuteTime": {
     "end_time": "2022-04-06T16:22:09.296560Z",
     "start_time": "2022-04-06T16:22:09.267676Z"
    }
   },
   "outputs": [],
   "source": [
    "conn = sqlite3.connect('titanic.sqlite')\n",
    "cur = conn.cursor()\n",
    "\n",
    "build_titanic('titanic_data.csv', cur)\n",
    "print(query_titanic_by_passenger_id(75, cur))\n",
    "print(query_titanic_by_passenger_id(6, cur))\n",
    "print(query_titanic_by_passenger_id(58, cur))\n",
    "\n",
    "cur.close()\n",
    "conn.commit()\n",
    "conn.close()"
   ]
  },
  {
   "cell_type": "markdown",
   "metadata": {},
   "source": [
    "Q3: [10 points] \n",
    "---\n",
    "For this question, you have to write queries on the `Titanic` for the following questions and print the output for them.  \n",
    "1. Get all rows of data where Pclass is 1.\n",
    "2. Get information of all females who survived.\n",
    "3. Get information of people who did not survive and were below 24 years of age. Order your output by age in ascending order.\n",
    "4. Get the information of the person who has paid the highest fair.\n",
    "5. Update all fares with value 0 to the average of the fares without 0."
   ]
  },
  {
   "cell_type": "code",
   "execution_count": null,
   "metadata": {},
   "outputs": [],
   "source": [
    "# Query 1\n",
    "print('Query 1 output')\n",
    "# Write code here"
   ]
  },
  {
   "cell_type": "code",
   "execution_count": null,
   "metadata": {},
   "outputs": [],
   "source": [
    "# Query 2\n",
    "print('Query 2 output')\n",
    "# Write code here"
   ]
  },
  {
   "cell_type": "code",
   "execution_count": null,
   "metadata": {},
   "outputs": [],
   "source": [
    "# Query 3\n",
    "print('Query 3 output')\n",
    "# Write code here"
   ]
  },
  {
   "cell_type": "code",
   "execution_count": null,
   "metadata": {},
   "outputs": [],
   "source": [
    "# Query 4\n",
    "print('Query 4 output')\n",
    "# Write code here"
   ]
  },
  {
   "cell_type": "code",
   "execution_count": null,
   "metadata": {},
   "outputs": [],
   "source": [
    "# Query 5\n",
    "print('Query 5 output')\n",
    "# Write code here"
   ]
  }
 ],
 "metadata": {
  "hide_input": false,
  "kernelspec": {
   "display_name": "base",
   "language": "python",
   "name": "python3"
  },
  "language_info": {
   "codemirror_mode": {
    "name": "ipython",
    "version": 3
   },
   "file_extension": ".py",
   "mimetype": "text/x-python",
   "name": "python",
   "nbconvert_exporter": "python",
   "pygments_lexer": "ipython3",
   "version": "3.11.7"
  },
  "nbTranslate": {
   "displayLangs": [
    "*"
   ],
   "hotkey": "alt-t",
   "langInMainMenu": true,
   "sourceLang": "en",
   "targetLang": "fr",
   "useGoogleTranslate": true
  },
  "varInspector": {
   "cols": {
    "lenName": 16,
    "lenType": 16,
    "lenVar": 40
   },
   "kernels_config": {
    "python": {
     "delete_cmd_postfix": "",
     "delete_cmd_prefix": "del ",
     "library": "var_list.py",
     "varRefreshCmd": "print(var_dic_list())"
    },
    "r": {
     "delete_cmd_postfix": ") ",
     "delete_cmd_prefix": "rm(",
     "library": "var_list.r",
     "varRefreshCmd": "cat(var_dic_list()) "
    }
   },
   "types_to_exclude": [
    "module",
    "function",
    "builtin_function_or_method",
    "instance",
    "_Feature"
   ],
   "window_display": false
  }
 },
 "nbformat": 4,
 "nbformat_minor": 4
}
